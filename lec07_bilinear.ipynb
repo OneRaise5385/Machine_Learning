{
 "cells": [
  {
   "cell_type": "markdown",
   "metadata": {},
   "source": [
    "# 矩阵分解模型"
   ]
  },
  {
   "cell_type": "markdown",
   "metadata": {},
   "source": [
    "### tqdm库\n",
    "- 进度条\n",
    "- https://blog.csdn.net/qq_41731861/article/details/121678411\n",
    "\n",
    "### np.bincount()\n",
    "- https://blog.csdn.net/HG0724/article/details/121270521\n",
    "- 统计从0到array数组中最大数字出现的个数的函数，并同样以array数组输出显示\n",
    "\n",
    "### np.ones()\n",
    "- 返回给定形状和数据类型的新数组，其中元素的值设置为1\n",
    "- https://blog.csdn.net/silent1cat/article/details/119883549\n",
    "\n",
    "### np.ceil()\n",
    "- 计算大于等于该值的最小整数\n",
    "- https://blog.csdn.net/devinzkx/article/details/124618434"
   ]
  },
  {
   "cell_type": "code",
   "execution_count": 12,
   "metadata": {},
   "outputs": [
    {
     "name": "stdout",
     "output_type": "stream",
     "text": [
      "数据集大小： 100000\n"
     ]
    }
   ],
   "source": [
    "import numpy as np\n",
    "import matplotlib.pyplot as plt\n",
    "from tqdm import tqdm  # 进度条\n",
    "\n",
    "data = np.loadtxt('data/movielens_100k.csv', delimiter=',', dtype=int)\n",
    "# 数据中的三列依次表示：用户编号，电影编号，评分\n",
    "print('数据集大小：',len(data))"
   ]
  },
  {
   "cell_type": "code",
   "execution_count": 13,
   "metadata": {},
   "outputs": [
    {
     "name": "stdout",
     "output_type": "stream",
     "text": [
      "用户数943,电影数1682\n"
     ]
    }
   ],
   "source": [
    "# 将数据全转化为序列0开始\n",
    "data[:,:2] = data[:,:2] - 1\n",
    "\n",
    "# 计算用户和电影数量\n",
    "users = set()\n",
    "items = set()\n",
    "for i, j, k in data:\n",
    "    users.add(i)\n",
    "    items.add(j)\n",
    "user_num = len(users)\n",
    "item_num = len(items)\n",
    "print(f'用户数{user_num},电影数{item_num}')"
   ]
  },
  {
   "cell_type": "code",
   "execution_count": 15,
   "metadata": {},
   "outputs": [
    {
     "name": "stdout",
     "output_type": "stream",
     "text": [
      "[228  51  47  17 148 156 336  41  16 149] [351 107  69 163  69  22 317 190 242  66]\n"
     ]
    }
   ],
   "source": [
    "# 划分训练集与测试集\n",
    "np.random.seed(2023)\n",
    "ratio = 0.8\n",
    "split = int(len(data) * ratio)\n",
    "np.random.shuffle(data)\n",
    "train = data[:split]\n",
    "test = data[split:]\n",
    "\n",
    "# 统计训练集中每个用户和电影出现的次数，作为正则化约束的强度\n",
    "user_cnt = np.bincount(train[:,0],minlength=user_num)\n",
    "item_cnt = np.bincount(train[:,1],minlength=item_num)\n",
    "print(user_cnt[:10],item_cnt[:10])"
   ]
  }
 ],
 "metadata": {
  "kernelspec": {
   "display_name": "base",
   "language": "python",
   "name": "python3"
  },
  "language_info": {
   "codemirror_mode": {
    "name": "ipython",
    "version": 3
   },
   "file_extension": ".py",
   "mimetype": "text/x-python",
   "name": "python",
   "nbconvert_exporter": "python",
   "pygments_lexer": "ipython3",
   "version": "3.11.4"
  },
  "orig_nbformat": 4
 },
 "nbformat": 4,
 "nbformat_minor": 2
}
