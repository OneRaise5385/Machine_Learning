{
 "cells": [
  {
   "cell_type": "markdown",
   "metadata": {},
   "source": [
    "# 自举聚合与随机森林"
   ]
  },
  {
   "cell_type": "code",
   "execution_count": 1,
   "metadata": {},
   "outputs": [
    {
     "name": "stdout",
     "output_type": "stream",
     "text": [
      "(1000, 16)\n"
     ]
    }
   ],
   "source": [
    "from tqdm import tqdm\n",
    "import numpy as np\n",
    "import matplotlib.pyplot as plt\n",
    "from sklearn.datasets import make_classification\n",
    "from sklearn.tree import DecisionTreeClassifier as DTC\n",
    "from sklearn.model_selection import train_test_split\n",
    "\n",
    "# 创建随机数据集\n",
    "X, y = make_classification(\n",
    "    n_samples=1000,  # 数据集大小\n",
    "    n_features=16,  # 特征数，及数据维度\n",
    "    n_informative=5,  # 有效特征数\n",
    "    n_redundant=2,  # 冗余特征数\n",
    "    n_classes=2,  # 类别数\n",
    "    flip_y=0.1,  # 类别随机的样本个数，该值越大，分类越困难\n",
    "    random_state=0  # 随机种子\n",
    ")\n",
    "print(X.shape)"
   ]
  },
  {
   "cell_type": "code",
   "execution_count": null,
   "metadata": {},
   "outputs": [],
   "source": [
    "class RandomForest:\n",
    "    def __init__(self, n_trees=10, max_features='sqrt'):\n",
    "        # max_feature是DTC的参数，表示节点分裂时随机采样的特征个数\n",
    "        # sqrt代表取全部特征的平方根，None：取全部特征，log2：取全部特征的对数\n",
    "        self.n_trees = n_trees\n",
    "        self.oob_score = 0\n",
    "        self.trees = [DTC(max_features=max_features) for _ in range(n_trees)]\n",
    "\n",
    "    # 用X和y训练模型\n",
    "    def fit(self, X, y):\n",
    "        n_samples, n_features = X.shape\n",
    "        self.n_classes = np.unique(y).shape[0]\n",
    "        "
   ]
  }
 ],
 "metadata": {
  "kernelspec": {
   "display_name": "base",
   "language": "python",
   "name": "python3"
  },
  "language_info": {
   "codemirror_mode": {
    "name": "ipython",
    "version": 3
   },
   "file_extension": ".py",
   "mimetype": "text/x-python",
   "name": "python",
   "nbconvert_exporter": "python",
   "pygments_lexer": "ipython3",
   "version": "3.11.4"
  }
 },
 "nbformat": 4,
 "nbformat_minor": 2
}
