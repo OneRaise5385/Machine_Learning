{
 "cells": [
  {
   "cell_type": "markdown",
   "metadata": {},
   "source": [
    "# 用KNN算法完成分类任务"
   ]
  },
  {
   "cell_type": "code",
   "execution_count": 1,
   "metadata": {},
   "outputs": [],
   "source": [
    "import matplotlib.pyplot as plt\n",
    "import numpy as np"
   ]
  },
  {
   "cell_type": "code",
   "execution_count": 8,
   "metadata": {},
   "outputs": [
    {
     "data": {
      "text/plain": [
       "<matplotlib.image.AxesImage at 0x1cb1aae9150>"
      ]
     },
     "execution_count": 8,
     "metadata": {},
     "output_type": "execute_result"
    },
    {
     "data": {
      "image/png": "[encoded data removed]",
      "text/plain": [
       "<Figure size 432x288 with 1 Axes>"
      ]
     },
     "metadata": {
      "needs_background": "light"
     },
     "output_type": "display_data"
    }
   ],
   "source": [
    "# 读取数据集\n",
    "m_x = np.loadtxt('data/mnist_x')\n",
    "m_y = np.loadtxt('data/mnist_y')\n",
    "\n",
    "# 数据可视化\n",
    "data = np.reshape(np.array(m_x[0],dtype=int),[28,28])\n",
    "plt.figure()\n",
    "plt.imshow(data,cmap='gray')"
   ]
  },
  {
   "cell_type": "code",
   "execution_count": 9,
   "metadata": {},
   "outputs": [],
   "source": [
    "# 将数据集分为训练集和测试集\n",
    "ratio = 0.8\n",
    "split = int(len(m_x) * ratio)\n",
    "\n",
    "# 打乱数据\n",
    "np.random.seed(2023)\n",
    "idx = np.random.permutation(np.arange(len(m_x)))\n",
    "m_x = m_x[idx]\n",
    "m_y = m_y[idx]\n",
    "x_train,x_test = m_x[:split],m_x[split:]\n",
    "y_train,y_test = m_y[:split],m_y[split:]"
   ]
  },
  {
   "cell_type": "code",
   "execution_count": 10,
   "metadata": {},
   "outputs": [],
   "source": [
    "# 定义样本之间的距离\n",
    "# 欧式距离\n",
    "def distance(a,b):\n",
    "    return np.sqrt(np.sum(np.square(a - b)))"
   ]
  },
  {
   "cell_type": "code",
   "execution_count": 12,
   "metadata": {},
   "outputs": [],
   "source": [
    "# KNN算法类\n",
    "class KNN:\n",
    "    def __init__(self,k,label_num):\n",
    "        # 设置k，标签数量\n",
    "        self.k = k\n",
    "        self.label_num = label_num\n",
    "\n",
    "    def fit(self,x_train,y_train):\n",
    "        # 在类中保存训练数据\n",
    "        self.x_train = x_train\n",
    "        self.y_train = y_train\n",
    "\n",
    "    def get_knn_indices(self,x):\n",
    "        # 获取距离目标最近的K个样本点的下标\n",
    "        # 计算已知样本到目标样本的距离\n",
    "        dis = list(map(lambda a:distance(a,x),self.x_train))\n",
    "        # 按距离从小到大排序，获得对应下标\n",
    "        knn_indices = np.argsort(dis)\n",
    "        # 取最近的k个下标\n",
    "        knn_indices = knn_indices[:self.k]\n",
    "        return knn_indices\n",
    "    \n",
    "    def get_label(self,x):\n",
    "        # KNN方法的具体实现，观察k个近邻并获取数量最多的类别\n",
    "        knn_indices = self.get_knn_indices(x)\n",
    "        # 类别计数\n",
    "        label_statistic = np.zeros(shape=[self.label_num])\n",
    "        for index in knn_indices:\n",
    "            label = int(self.y_train[index])\n",
    "            label_statistic[label] += 1\n",
    "        # 返回数量最多的类型\n",
    "        return np.argmax(label_statistic)\n",
    "    \n",
    "    def predict(self,x_test):\n",
    "        # 预测样本x_test的类别\n",
    "        predicted_test_labels = np.zeros(shape=[len(x_test)],dtype=int)\n",
    "        for i,x in enumerate(x_test):\n",
    "            predicted_test_labels[i] = self.get_label(x)\n",
    "        return predicted_test_labels\n"
   ]
  },
  {
   "cell_type": "code",
   "execution_count": 16,
   "metadata": {},
   "outputs": [
    {
     "name": "stdout",
     "output_type": "stream",
     "text": [
      "K的取值为1,预测准确率为88.5%\n",
      "K的取值为2,预测准确率为86.5%\n",
      "K的取值为3,预测准确率为87.5%\n",
      "K的取值为4,预测准确率为86.0%\n",
      "K的取值为5,预测准确率为87.0%\n",
      "K的取值为6,预测准确率为86.5%\n",
      "K的取值为7,预测准确率为86.5%\n",
      "K的取值为8,预测准确率为86.5%\n",
      "K的取值为9,预测准确率为86.0%\n"
     ]
    }
   ],
   "source": [
    "# 在测试集上观察算法的效果\n",
    "for k in range(1,10):\n",
    "    knn = KNN(k,label_num=10)\n",
    "    knn.fit(x_train,y_train)\n",
    "    predicted_labels = knn.predict(x_test)\n",
    "    accuracy = np.mean(predicted_labels == y_test)\n",
    "    print(f'K的取值为{k},预测准确率为{accuracy * 100:.1f}%')"
   ]
  }
 ],
 "metadata": {
  "kernelspec": {
   "display_name": "Python 3",
   "language": "python",
   "name": "python3"
  },
  "language_info": {
   "codemirror_mode": {
    "name": "ipython",
    "version": 3
   },
   "file_extension": ".py",
   "mimetype": "text/x-python",
   "name": "python",
   "nbconvert_exporter": "python",
   "pygments_lexer": "ipython3",
   "version": "3.10.1"
  },
  "orig_nbformat": 4
 },
 "nbformat": 4,
 "nbformat_minor": 2
}
