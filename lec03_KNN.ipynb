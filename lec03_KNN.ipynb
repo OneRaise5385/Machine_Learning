{
 "cells": [
  {
   "cell_type": "markdown",
   "metadata": {},
   "source": [
    "# 用KNN算法完成分类任务"
   ]
  },
  {
   "cell_type": "code",
   "execution_count": null,
   "metadata": {},
   "outputs": [],
   "source": [
    "import matplotlib.pyplot as plt\n",
    "import numpy as np"
   ]
  },
  {
   "cell_type": "code",
   "execution_count": null,
   "metadata": {},
   "outputs": [],
   "source": [
    "# 读取数据集\n",
    "m_x = np.loadtxt('data/mnist_x')\n",
    "m_y = np.loadtxt('data/mnist_y')\n",
    "\n",
    "# 数据可视化\n",
    "data = np.reshape(np.array(m_x[0],dtype=int),[28,28])\n",
    "plt.figure()\n",
    "plt.imshow(data,cmap='Blues')"
   ]
  },
  {
   "cell_type": "code",
   "execution_count": null,
   "metadata": {},
   "outputs": [],
   "source": [
    "# 将数据集分为训练集和测试集\n",
    "ratio = 0.8\n",
    "split = int(len(m_x) * ratio)\n",
    "\n",
    "# 打乱数据\n",
    "np.random.seed(2023)\n",
    "idx = np.random.permutation(np.arange(len(m_x)))\n",
    "m_x = m_x[idx]\n",
    "m_y = m_y[idx]\n",
    "x_train,x_test = m_x[:split],m_x[split:]\n",
    "y_train,y_test = m_y[:split],m_y[split:]\n",
    "\n",
    "# 定义样本之间的距离\n",
    "# 欧式距离\n",
    "def distance(a,b):\n",
    "    return np.sqrt(np.sum(np.square(a - b)))"
   ]
  },
  {
   "cell_type": "code",
   "execution_count": null,
   "metadata": {},
   "outputs": [],
   "source": [
    "# KNN算法类\n",
    "class KNN:\n",
    "    def __init__(self,k,label_num):\n",
    "        # 设置k，标签数量\n",
    "        self.k = k\n",
    "        self.label_num = label_num\n",
    "\n",
    "    def fit(self,x_train,y_train):\n",
    "        # 在类中保存训练数据\n",
    "        self.x_train = x_train\n",
    "        self.y_train = y_train\n",
    "\n",
    "    def get_knn_indices(self,x):\n",
    "        # 获取距离目标最近的K个样本点的下标\n",
    "        # 计算已知样本到目标样本的距离\n",
    "        dis = list(map(lambda a:distance(a,x),self.x_train))\n",
    "        # 按距离从小到大排序，获得对应下标\n",
    "        knn_indices = np.argsort(dis)\n",
    "        # 取最近的k个下标\n",
    "        knn_indices = knn_indices[:self.k]\n",
    "        return knn_indices\n",
    "\n",
    "    def get_label(self,x):\n",
    "        # KNN方法的具体实现，观察k个近邻并获取数量最多的类别\n",
    "        knn_indices = self.get_knn_indices(x)\n",
    "        # 类别计数\n",
    "        label_statistic = np.zeros(shape=[self.label_num])\n",
    "        for index in knn_indices:\n",
    "            label = int(self.y_train[index])\n",
    "            label_statistic[label] += 1\n",
    "        # 返回数量最多的类型\n",
    "        return np.argmax(label_statistic)\n",
    "\n",
    "    def predict(self,x_test):\n",
    "        # 预测样本x_test的类别\n",
    "        predicted_test_labels = np.zeros(shape=[len(x_test)],dtype=int)\n",
    "        for i,x in enumerate(x_test):\n",
    "            predicted_test_labels[i] = self.get_label(x)\n",
    "        return predicted_test_labels\n"
   ]
  },
  {
   "cell_type": "code",
   "execution_count": null,
   "metadata": {},
   "outputs": [],
   "source": [
    "# 在测试集上观察算法的效果\n",
    "for k in range(1,10):\n",
    "    knn = KNN(k,label_num=10)\n",
    "    knn.fit(x_train,y_train)\n",
    "    predicted_labels = knn.predict(x_test)\n",
    "    accuracy = np.mean(predicted_labels == y_test)\n",
    "    print(f'K的取值为{k},预测准确率为{accuracy * 100:.1f}%')"
   ]
  },
  {
   "cell_type": "markdown",
   "metadata": {},
   "source": [
    "# 使用scikit-learn实现KNN算法"
   ]
  },
  {
   "cell_type": "code",
   "execution_count": null,
   "metadata": {},
   "outputs": [],
   "source": [
    "from sklearn.neighbors import KNeighborsClassifier\n",
    "from matplotlib.colors import ListedColormap\n",
    "\n",
    "# 读入高斯数据集\n",
    "data = np.loadtxt('data/gauss.csv',delimiter=',')\n",
    "x_train = data[:,:2]\n",
    "y_train = data[:,2]\n",
    "print('数据集大小：',len(x_train))"
   ]
  },
  {
   "cell_type": "code",
   "execution_count": null,
   "metadata": {},
   "outputs": [],
   "source": [
    "x_train[y_train == 0, 0]"
   ]
  },
  {
   "cell_type": "code",
   "execution_count": null,
   "metadata": {},
   "outputs": [],
   "source": [
    "# 数据可视化\n",
    "plt.figure()\n",
    "plt.scatter(x_train[y_train == 0, 0], x_train[y_train == 0, 1], c='blue', marker='o')\n",
    "plt.scatter(x_train[y_train == 1, 0], x_train[y_train == 1, 1], c='red', marker='x')\n",
    "plt.xlabel('X axis')\n",
    "plt.ylabel('Y axis')\n",
    "plt.show()"
   ]
  },
  {
   "cell_type": "code",
   "execution_count": null,
   "metadata": {},
   "outputs": [],
   "source": [
    "# 设置步长\n",
    "step = 0.1\n",
    "# 设置网格边界\n",
    "x_min, x_max = np.min(x_train[:, 0]) - 1, np.max(x_train[:, 0]) + 1 \n",
    "y_min, y_max = np.min(x_train[:, 1]) - 1, np.max(x_train[:, 1]) + 1\n",
    "# 构造网格\n",
    "xx, yy = np.meshgrid(np.arange(x_min, x_max, step), np.arange(y_min, y_max, step))\n",
    "grid_data = np.concatenate([xx.reshape(-1, 1), yy.reshape(-1, 1)], axis=1)"
   ]
  },
  {
   "cell_type": "code",
   "execution_count": null,
   "metadata": {},
   "outputs": [],
   "source": [
    "xx,yy"
   ]
  },
  {
   "cell_type": "code",
   "execution_count": null,
   "metadata": {},
   "outputs": [],
   "source": [
    "grid_data"
   ]
  },
  {
   "cell_type": "code",
   "execution_count": null,
   "metadata": {},
   "outputs": [],
   "source": [
    "fig = plt.figure(figsize=(16,4.5))\n",
    "# K值\n",
    "ks = [1, 3, 10] \n",
    "cmap_light = ListedColormap(['royalblue', 'lightcoral'])\n",
    "\n",
    "for i, k in enumerate(ks):\n",
    "    # 定义KNN分类器\n",
    "    knn = KNeighborsClassifier(n_neighbors=k) \n",
    "    knn.fit(x_train, y_train)\n",
    "    z = knn.predict(grid_data)\n",
    "\n",
    "    # 画出分类结果\n",
    "    ax = fig.add_subplot(1, 3, i + 1)\n",
    "    ax.pcolormesh(xx, yy, z.reshape(xx.shape), cmap=cmap_light, alpha=0.7)\n",
    "    ax.scatter(x_train[y_train == 0, 0], x_train[y_train == 0, 1], c='blue', marker='o')\n",
    "    ax.scatter(x_train[y_train == 1, 0], x_train[y_train == 1, 1], c='red', marker='x')\n",
    "\n",
    "    ax.set_xlabel('X axis')\n",
    "    ax.set_ylabel('Y axis')\n",
    "    ax.set_title(f'K = {k}')\n",
    "plt.show()"
   ]
  },
  {
   "cell_type": "markdown",
   "metadata": {},
   "source": [
    "# 用KNN算法完成色彩风格迁移"
   ]
  },
  {
   "cell_type": "code",
   "execution_count": null,
   "metadata": {},
   "outputs": [],
   "source": [
    "from skimage import io\n",
    "from skimage.color import rgb2lab,lab2rgb\n",
    "from sklearn.neighbors import KNeighborsRegressor\n",
    "import os"
   ]
  },
  {
   "cell_type": "code",
   "execution_count": null,
   "metadata": {},
   "outputs": [],
   "source": [
    "# 风格图像展示\n",
    "path = 'data/style_transfer/'\n",
    "# 图像展示\n",
    "data_dir = os.path.join(path,'vangogh')\n",
    "fig = plt.figure(figsize=(16,5))\n",
    "for i,file in enumerate(np.sort(os.listdir(data_dir))[:3]):\n",
    "    img = io.imread(os.path.join(data_dir,file))\n",
    "    ax = fig.add_subplot(1,3,i+1)\n",
    "    ax.imshow(img)\n",
    "    ax.set_xlabel('X axis')\n",
    "    ax.set_ylabel('Y axis')\n",
    "    ax.set_title(file)\n",
    "plt.show()"
   ]
  },
  {
   "cell_type": "code",
   "execution_count": null,
   "metadata": {},
   "outputs": [],
   "source": [
    "# 记录风格图像中每个窗口对应的原始颜色，供最后着色使用\n",
    "# block_size表示向外扩散的层数\n",
    "block_size = 1\n",
    "\n",
    "def read_style_image(file_name,size=block_size):\n",
    "    # 读取风格图像\n",
    "    # X存储3*3像素格的灰度值，Y存储中心像素的色彩值\n",
    "    # 读取图像文件，得到W*H*3的RGB矩阵\n",
    "    img = io.imread(file_name)\n",
    "    fig = plt.figure()\n",
    "    plt.imshow(img)\n",
    "    plt.xlabel('X axis')\n",
    "    plt.ylabel('Y axis')\n",
    "    plt.show()\n",
    "\n",
    "    # 将RGB模式转换为LAB模式，三维分别是L，A，B\n",
    "    img = rgb2lab(img)\n",
    "    # 取出图像的宽度和高度\n",
    "    w,h = img.shape[:2]\n",
    "\n",
    "    X = []\n",
    "    Y = []\n",
    "    # 枚举全部可能的中心点\n",
    "    for x in range(size,w - size):\n",
    "        for y in range(size,h - size):\n",
    "            # 保存所有窗口\n",
    "            X.append(img[x - size:x + size + 1,\n",
    "                         y - size:y + size+1,0].flatten())\n",
    "            # 保存窗口对应的色彩值a,b\n",
    "            Y.append(img[x,y,1:])\n",
    "    return X,Y\n"
   ]
  },
  {
   "cell_type": "code",
   "execution_count": null,
   "metadata": {},
   "outputs": [],
   "source": [
    "X,Y = read_style_image(os.path.join(path,'style.jpg'))\n",
    "# weights='distance'表示邻居的权重与其到样本的距离成反比\n",
    "knn = KNeighborsRegressor(n_neighbors=4,weights='distance')\n",
    "knn.fit(X,Y)"
   ]
  },
  {
   "cell_type": "code",
   "execution_count": null,
   "metadata": {},
   "outputs": [],
   "source": [
    "# 将内容图像分割成同样大小的窗口，使用KNN着色\n",
    "def rebuild(img,size=block_size):\n",
    "    # 打印内容图像\n",
    "    fig = plt.figure()\n",
    "    plt.imshow(img)\n",
    "    plt.xlabel('X axis')\n",
    "    plt.ylabel('Y axis')\n",
    "    plt.show()\n",
    "\n",
    "    # 将内容图像用LAB模式表示\n",
    "    img = rgb2lab(img)\n",
    "    w,h = img.shape[:2]\n",
    "\n",
    "    # 初始化输出图像对应的矩阵\n",
    "    photo = np.zeros([w,h,3])\n",
    "    # 枚举内容图像的中心点保存所有窗口\n",
    "    print('Constructing window...')\n",
    "    X = []\n",
    "    for x in range(size,w - size):\n",
    "        for y in range(size,h - size):\n",
    "            # 保存所有窗口\n",
    "            window = img[x - size:x + size + 1,\n",
    "                         y - size:y + size+1,0].flatten()\n",
    "            # 保存窗口对应的色彩值a,b\n",
    "            X.append(window)\n",
    "    X = np.array(X)\n",
    "    \n",
    "    # 用KNN回归器预测颜色\n",
    "    print('Predicting...')\n",
    "    pred_ab = knn.predict(X).reshape(w - 2 * size,h - 2 * size,-1)\n",
    "    # 设置输出图像\n",
    "    photo[:,:,0] = img[:,:,0]\n",
    "    photo[size:w - size,size:h - size,1:] = pred_ab\n",
    "\n",
    "    # 由于最外层size层无法构造窗口，我们直接把这些像素裁剪掉\n",
    "    photo = photo[size:w - size,size:h - size,:]\n",
    "    return photo"
   ]
  },
  {
   "cell_type": "code",
   "execution_count": null,
   "metadata": {},
   "outputs": [],
   "source": [
    "# 设置相关参数，展示风格迁移后的图像\n",
    "content = io.imread(os.path.join(path,'input.jpg'))\n",
    "new_photo = rebuild(content)\n",
    "\n",
    "# 将生成的图像转换成RGB模式\n",
    "new_photo = lab2rgb(new_photo)\n",
    "\n",
    "fig = plt.figure()\n",
    "plt.imshow(new_photo)\n",
    "plt.xlabel('X axis')\n",
    "plt.ylabel('Y axis')\n",
    "plt.show()"
   ]
  },
  {
   "cell_type": "markdown",
   "metadata": {},
   "source": [
    "# Others\n",
    "- map()函数的用法https://blog.csdn.net/qq_41554005/article/details/119931689\n",
    "- enumerate()函数的用法https://blog.csdn.net/churximi/article/details/51648388\n",
    "- np.readtxt()函数的用法https://blog.csdn.net/cyh153296/article/details/83502076\n",
    "- plt.scatter()函数的用法https://blog.csdn.net/gongdiwudu/article/details/129947219\n",
    "- np.meshgrid()函数的用法https://blog.csdn.net/xbinworld/article/details/107451926\n",
    "- np.concatenate()函数的用法https://blog.csdn.net/kekeshu_k/article/details/109110916"
   ]
  },
  {
   "cell_type": "code",
   "execution_count": null,
   "metadata": {},
   "outputs": [],
   "source": [
    "# enumerate()函数的用法https://blog.csdn.net/churximi/article/details/51648388\n",
    "# enumerate将其组成一个索引序列，利用它可以同时获得索引和值\n",
    "list1 = [\"这\", \"是\", \"一个\", \"测试\"]\n",
    "for index, item in enumerate(list1):\n",
    "    print(index, item)"
   ]
  }
 ],
 "metadata": {
  "kernelspec": {
   "display_name": "Python 3",
   "language": "python",
   "name": "python3"
  },
  "language_info": {
   "codemirror_mode": {
    "name": "ipython",
    "version": 3
   },
   "file_extension": ".py",
   "mimetype": "text/x-python",
   "name": "python",
   "nbconvert_exporter": "python",
   "pygments_lexer": "ipython3",
   "version": "3.11.4"
  },
  "orig_nbformat": 4
 },
 "nbformat": 4,
 "nbformat_minor": 2
}
