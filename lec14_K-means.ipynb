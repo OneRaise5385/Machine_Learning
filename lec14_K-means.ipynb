{
 "cells": [
  {
   "cell_type": "markdown",
   "metadata": {},
   "source": [
    "# K均值算法"
   ]
  },
  {
   "cell_type": "markdown",
   "metadata": {},
   "source": [
    "## np.unique()\n",
    "- 去除其中重复的元素 ，并按元素由小到大 返回一个新的无元素重复的元组或者列表\n",
    "- https://blog.csdn.net/weixin_44211968/article/details/123772201\n",
    "- numpy.unique(arr, return_index, return_inverse, return_counts)\n",
    "- arr：输入数组，如果不是一维数组则会展开\n",
    "- return_index：如果为 true，返回新列表元素在旧列表中的位置（下标），并以列表形式存储。\n",
    "- return_inverse：如果为true，返回旧列表元素在新列表中的位置（下标），并以列表形式存储。\n",
    "- return_counts：如果为 true，返回去重数组中的元素在原数组中的出现次数。\n",
    "\n",
    "## plt.scatter()\n",
    "- https://blog.csdn.net/TeFuirnever/article/details/88944438\n",
    "- 生成一个scatter散点图"
   ]
  },
  {
   "cell_type": "code",
   "execution_count": 1,
   "metadata": {},
   "outputs": [
    {
     "name": "stderr",
     "output_type": "stream",
     "text": [
      "c:\\Users\\OneRaise\\miniconda3\\Lib\\site-packages\\numpy\\_distributor_init.py:30: UserWarning: loaded more than 1 DLL from .libs:\n",
      "c:\\Users\\OneRaise\\miniconda3\\Lib\\site-packages\\numpy\\.libs\\libopenblas.FB5AE2TYXYH2IJRDKGDGQ3XBKLKTF43H.gfortran-win_amd64.dll\n",
      "c:\\Users\\OneRaise\\miniconda3\\Lib\\site-packages\\numpy\\.libs\\libopenblas64__v0.3.23-246-g3d31191b-gcc_10_3_0.dll\n",
      "  warnings.warn(\"loaded more than 1 DLL from .libs:\"\n"
     ]
    },
    {
     "name": "stdout",
     "output_type": "stream",
     "text": [
      "数据集大小： 80\n"
     ]
    }
   ],
   "source": [
    "import numpy as np\n",
    "import matplotlib.pyplot as plt\n",
    "dataset = np.loadtxt('data/kmeans_data.csv', delimiter=',')\n",
    "print('数据集大小：', len(dataset))"
   ]
  },
  {
   "cell_type": "code",
   "execution_count": 2,
   "metadata": {},
   "outputs": [
    {
     "data": {
      "image/png": "[encoded data removed]",
      "text/plain": [
       "<Figure size 640x480 with 1 Axes>"
      ]
     },
     "metadata": {},
     "output_type": "display_data"
    }
   ],
   "source": [
    "# 绘图函数\n",
    "def show_cluster(dataset, cluster, centroids=None):\n",
    "    # cluster：每个样本所属的聚类\n",
    "    # centroids: 聚类中心点的坐标\n",
    "    colors = ['blue', 'red', 'green', 'purple']\n",
    "    markers = ['o', '^', 's', 'd']\n",
    "    # 画出所有样例\n",
    "    K = len(np.unique(cluster))\n",
    "    for i in range(K):\n",
    "        plt.scatter(dataset[cluster == i, 0], dataset[cluster == i, 1],\n",
    "                    color=colors[i], marker=markers[i], s=10)\n",
    "        \n",
    "    # 画出中心点\n",
    "    if centroids is not None:\n",
    "        plt.scatter(centroids[:, 0], centroids[:, 1],\n",
    "                    color=colors[:K], marker='+', s=150)\n",
    "    plt.show()\n",
    "\n",
    "# 初始时不区分类别\n",
    "show_cluster(dataset, np.zeros(len(dataset), dtype=int))"
   ]
  },
  {
   "cell_type": "code",
   "execution_count": 3,
   "metadata": {},
   "outputs": [],
   "source": [
    "# 随机选取样本点\n",
    "def random_init(dataset, K):\n",
    "    # 随机选取不是重复的\n",
    "    idx = np.random.choice(np.arange(len(dataset)), size=K, replace=False)\n",
    "    return dataset[idx]\n",
    "\n",
    "# K-means算法\n",
    "def Kmeans(dataset, K, init_cent):\n",
    "    # init_cent:初始化中心点的函数\n",
    "    centroids = init_cent(dataset, K)\n",
    "    cluster = np.zeros(len(dataset), dtype=int)\n",
    "    changed = True\n",
    "    # 开始迭代\n",
    "    itr = 0\n",
    "    while changed:\n",
    "        changed = False\n",
    "        loss = 0\n",
    "        for i, data in enumerate(dataset):\n",
    "            # 寻找最近的中心点\n",
    "            dis = np.sum((centroids - data) ** 2, axis=-1)\n",
    "            k = np.argmin(dis)\n",
    "            # 更新当前样本所属的聚类\n",
    "            if cluster[i] != k:\n",
    "                cluster[i] = K\n",
    "                changed = True\n",
    "            # 计算损失函数\n",
    "            loss += np.sum((data - centroids[k]) ** 2)\n",
    "        # 绘图\n",
    "        print(f'Iteration {itr}, Loss{loss:.3f}')\n",
    "        show_cluster(dataset, cluster, centroids)\n",
    "        # 更新中心点\n",
    "        for i in range(K):\n",
    "            centroids[i] = np.mean(dataset[cluster == i], axis=0)\n",
    "        itr += 1\n",
    "    return centroids, cluster\n",
    "    "
   ]
  },
  {
   "cell_type": "code",
   "execution_count": 4,
   "metadata": {},
   "outputs": [
    {
     "name": "stdout",
     "output_type": "stream",
     "text": [
      "Iteration 0, Loss711.336\n"
     ]
    },
    {
     "ename": "ValueError",
     "evalue": "'c' argument has 2 elements, which is inconsistent with 'x' and 'y' with size 4.",
     "output_type": "error",
     "traceback": [
      "\u001b[1;31m---------------------------------------------------------------------------\u001b[0m",
      "\u001b[1;31mValueError\u001b[0m                                Traceback (most recent call last)",
      "\u001b[1;32mc:\\Users\\OneRaise\\Desktop\\Machine_Learning\\lec14_K-means.ipynb Cell 6\u001b[0m line \u001b[0;36m2\n\u001b[0;32m      <a href='vscode-notebook-cell:/c%3A/Users/OneRaise/Desktop/Machine_Learning/lec14_K-means.ipynb#W5sZmlsZQ%3D%3D?line=0'>1</a>\u001b[0m np\u001b[39m.\u001b[39mrandom\u001b[39m.\u001b[39mseed(\u001b[39m0\u001b[39m)\n\u001b[1;32m----> <a href='vscode-notebook-cell:/c%3A/Users/OneRaise/Desktop/Machine_Learning/lec14_K-means.ipynb#W5sZmlsZQ%3D%3D?line=1'>2</a>\u001b[0m cent, cluster \u001b[39m=\u001b[39m Kmeans(dataset, \u001b[39m4\u001b[39;49m, random_init)\n",
      "\u001b[1;32mc:\\Users\\OneRaise\\Desktop\\Machine_Learning\\lec14_K-means.ipynb Cell 6\u001b[0m line \u001b[0;36m3\n\u001b[0;32m     <a href='vscode-notebook-cell:/c%3A/Users/OneRaise/Desktop/Machine_Learning/lec14_K-means.ipynb#W5sZmlsZQ%3D%3D?line=27'>28</a>\u001b[0m \u001b[39m# 绘图\u001b[39;00m\n\u001b[0;32m     <a href='vscode-notebook-cell:/c%3A/Users/OneRaise/Desktop/Machine_Learning/lec14_K-means.ipynb#W5sZmlsZQ%3D%3D?line=28'>29</a>\u001b[0m \u001b[39mprint\u001b[39m(\u001b[39mf\u001b[39m\u001b[39m'\u001b[39m\u001b[39mIteration \u001b[39m\u001b[39m{\u001b[39;00mitr\u001b[39m}\u001b[39;00m\u001b[39m, Loss\u001b[39m\u001b[39m{\u001b[39;00mloss\u001b[39m:\u001b[39;00m\u001b[39m.3f\u001b[39m\u001b[39m}\u001b[39;00m\u001b[39m'\u001b[39m)\n\u001b[1;32m---> <a href='vscode-notebook-cell:/c%3A/Users/OneRaise/Desktop/Machine_Learning/lec14_K-means.ipynb#W5sZmlsZQ%3D%3D?line=29'>30</a>\u001b[0m show_cluster(dataset, cluster, centroids)\n\u001b[0;32m     <a href='vscode-notebook-cell:/c%3A/Users/OneRaise/Desktop/Machine_Learning/lec14_K-means.ipynb#W5sZmlsZQ%3D%3D?line=30'>31</a>\u001b[0m \u001b[39m# 更新中心点\u001b[39;00m\n\u001b[0;32m     <a href='vscode-notebook-cell:/c%3A/Users/OneRaise/Desktop/Machine_Learning/lec14_K-means.ipynb#W5sZmlsZQ%3D%3D?line=31'>32</a>\u001b[0m \u001b[39mfor\u001b[39;00m i \u001b[39min\u001b[39;00m \u001b[39mrange\u001b[39m(K):\n",
      "\u001b[1;32mc:\\Users\\OneRaise\\Desktop\\Machine_Learning\\lec14_K-means.ipynb Cell 6\u001b[0m line \u001b[0;36m1\n\u001b[0;32m     <a href='vscode-notebook-cell:/c%3A/Users/OneRaise/Desktop/Machine_Learning/lec14_K-means.ipynb#W5sZmlsZQ%3D%3D?line=12'>13</a>\u001b[0m \u001b[39m# 画出中心点\u001b[39;00m\n\u001b[0;32m     <a href='vscode-notebook-cell:/c%3A/Users/OneRaise/Desktop/Machine_Learning/lec14_K-means.ipynb#W5sZmlsZQ%3D%3D?line=13'>14</a>\u001b[0m \u001b[39mif\u001b[39;00m centroids \u001b[39mis\u001b[39;00m \u001b[39mnot\u001b[39;00m \u001b[39mNone\u001b[39;00m:\n\u001b[1;32m---> <a href='vscode-notebook-cell:/c%3A/Users/OneRaise/Desktop/Machine_Learning/lec14_K-means.ipynb#W5sZmlsZQ%3D%3D?line=14'>15</a>\u001b[0m     plt\u001b[39m.\u001b[39;49mscatter(centroids[:, \u001b[39m0\u001b[39;49m], centroids[:, \u001b[39m1\u001b[39;49m],\n\u001b[0;32m     <a href='vscode-notebook-cell:/c%3A/Users/OneRaise/Desktop/Machine_Learning/lec14_K-means.ipynb#W5sZmlsZQ%3D%3D?line=15'>16</a>\u001b[0m                 color\u001b[39m=\u001b[39;49mcolors[:K], marker\u001b[39m=\u001b[39;49m\u001b[39m'\u001b[39;49m\u001b[39m+\u001b[39;49m\u001b[39m'\u001b[39;49m, s\u001b[39m=\u001b[39;49m\u001b[39m150\u001b[39;49m)\n\u001b[0;32m     <a href='vscode-notebook-cell:/c%3A/Users/OneRaise/Desktop/Machine_Learning/lec14_K-means.ipynb#W5sZmlsZQ%3D%3D?line=16'>17</a>\u001b[0m plt\u001b[39m.\u001b[39mshow()\n",
      "File \u001b[1;32mc:\\Users\\OneRaise\\miniconda3\\Lib\\site-packages\\matplotlib\\pyplot.py:2862\u001b[0m, in \u001b[0;36mscatter\u001b[1;34m(x, y, s, c, marker, cmap, norm, vmin, vmax, alpha, linewidths, edgecolors, plotnonfinite, data, **kwargs)\u001b[0m\n\u001b[0;32m   2857\u001b[0m \u001b[39m@_copy_docstring_and_deprecators\u001b[39m(Axes\u001b[39m.\u001b[39mscatter)\n\u001b[0;32m   2858\u001b[0m \u001b[39mdef\u001b[39;00m \u001b[39mscatter\u001b[39m(\n\u001b[0;32m   2859\u001b[0m         x, y, s\u001b[39m=\u001b[39m\u001b[39mNone\u001b[39;00m, c\u001b[39m=\u001b[39m\u001b[39mNone\u001b[39;00m, marker\u001b[39m=\u001b[39m\u001b[39mNone\u001b[39;00m, cmap\u001b[39m=\u001b[39m\u001b[39mNone\u001b[39;00m, norm\u001b[39m=\u001b[39m\u001b[39mNone\u001b[39;00m,\n\u001b[0;32m   2860\u001b[0m         vmin\u001b[39m=\u001b[39m\u001b[39mNone\u001b[39;00m, vmax\u001b[39m=\u001b[39m\u001b[39mNone\u001b[39;00m, alpha\u001b[39m=\u001b[39m\u001b[39mNone\u001b[39;00m, linewidths\u001b[39m=\u001b[39m\u001b[39mNone\u001b[39;00m, \u001b[39m*\u001b[39m,\n\u001b[0;32m   2861\u001b[0m         edgecolors\u001b[39m=\u001b[39m\u001b[39mNone\u001b[39;00m, plotnonfinite\u001b[39m=\u001b[39m\u001b[39mFalse\u001b[39;00m, data\u001b[39m=\u001b[39m\u001b[39mNone\u001b[39;00m, \u001b[39m*\u001b[39m\u001b[39m*\u001b[39mkwargs):\n\u001b[1;32m-> 2862\u001b[0m     __ret \u001b[39m=\u001b[39m gca()\u001b[39m.\u001b[39;49mscatter(\n\u001b[0;32m   2863\u001b[0m         x, y, s\u001b[39m=\u001b[39;49ms, c\u001b[39m=\u001b[39;49mc, marker\u001b[39m=\u001b[39;49mmarker, cmap\u001b[39m=\u001b[39;49mcmap, norm\u001b[39m=\u001b[39;49mnorm,\n\u001b[0;32m   2864\u001b[0m         vmin\u001b[39m=\u001b[39;49mvmin, vmax\u001b[39m=\u001b[39;49mvmax, alpha\u001b[39m=\u001b[39;49malpha, linewidths\u001b[39m=\u001b[39;49mlinewidths,\n\u001b[0;32m   2865\u001b[0m         edgecolors\u001b[39m=\u001b[39;49medgecolors, plotnonfinite\u001b[39m=\u001b[39;49mplotnonfinite,\n\u001b[0;32m   2866\u001b[0m         \u001b[39m*\u001b[39;49m\u001b[39m*\u001b[39;49m({\u001b[39m\"\u001b[39;49m\u001b[39mdata\u001b[39;49m\u001b[39m\"\u001b[39;49m: data} \u001b[39mif\u001b[39;49;00m data \u001b[39mis\u001b[39;49;00m \u001b[39mnot\u001b[39;49;00m \u001b[39mNone\u001b[39;49;00m \u001b[39melse\u001b[39;49;00m {}), \u001b[39m*\u001b[39;49m\u001b[39m*\u001b[39;49mkwargs)\n\u001b[0;32m   2867\u001b[0m     sci(__ret)\n\u001b[0;32m   2868\u001b[0m     \u001b[39mreturn\u001b[39;00m __ret\n",
      "File \u001b[1;32mc:\\Users\\OneRaise\\miniconda3\\Lib\\site-packages\\matplotlib\\__init__.py:1446\u001b[0m, in \u001b[0;36m_preprocess_data.<locals>.inner\u001b[1;34m(ax, data, *args, **kwargs)\u001b[0m\n\u001b[0;32m   1443\u001b[0m \u001b[39m@functools\u001b[39m\u001b[39m.\u001b[39mwraps(func)\n\u001b[0;32m   1444\u001b[0m \u001b[39mdef\u001b[39;00m \u001b[39minner\u001b[39m(ax, \u001b[39m*\u001b[39margs, data\u001b[39m=\u001b[39m\u001b[39mNone\u001b[39;00m, \u001b[39m*\u001b[39m\u001b[39m*\u001b[39mkwargs):\n\u001b[0;32m   1445\u001b[0m     \u001b[39mif\u001b[39;00m data \u001b[39mis\u001b[39;00m \u001b[39mNone\u001b[39;00m:\n\u001b[1;32m-> 1446\u001b[0m         \u001b[39mreturn\u001b[39;00m func(ax, \u001b[39m*\u001b[39;49m\u001b[39mmap\u001b[39;49m(sanitize_sequence, args), \u001b[39m*\u001b[39;49m\u001b[39m*\u001b[39;49mkwargs)\n\u001b[0;32m   1448\u001b[0m     bound \u001b[39m=\u001b[39m new_sig\u001b[39m.\u001b[39mbind(ax, \u001b[39m*\u001b[39margs, \u001b[39m*\u001b[39m\u001b[39m*\u001b[39mkwargs)\n\u001b[0;32m   1449\u001b[0m     auto_label \u001b[39m=\u001b[39m (bound\u001b[39m.\u001b[39marguments\u001b[39m.\u001b[39mget(label_namer)\n\u001b[0;32m   1450\u001b[0m                   \u001b[39mor\u001b[39;00m bound\u001b[39m.\u001b[39mkwargs\u001b[39m.\u001b[39mget(label_namer))\n",
      "File \u001b[1;32mc:\\Users\\OneRaise\\miniconda3\\Lib\\site-packages\\matplotlib\\axes\\_axes.py:4596\u001b[0m, in \u001b[0;36mAxes.scatter\u001b[1;34m(self, x, y, s, c, marker, cmap, norm, vmin, vmax, alpha, linewidths, edgecolors, plotnonfinite, **kwargs)\u001b[0m\n\u001b[0;32m   4593\u001b[0m \u001b[39mif\u001b[39;00m edgecolors \u001b[39mis\u001b[39;00m \u001b[39mNone\u001b[39;00m:\n\u001b[0;32m   4594\u001b[0m     orig_edgecolor \u001b[39m=\u001b[39m kwargs\u001b[39m.\u001b[39mget(\u001b[39m'\u001b[39m\u001b[39medgecolor\u001b[39m\u001b[39m'\u001b[39m, \u001b[39mNone\u001b[39;00m)\n\u001b[0;32m   4595\u001b[0m c, colors, edgecolors \u001b[39m=\u001b[39m \\\n\u001b[1;32m-> 4596\u001b[0m     \u001b[39mself\u001b[39;49m\u001b[39m.\u001b[39;49m_parse_scatter_color_args(\n\u001b[0;32m   4597\u001b[0m         c, edgecolors, kwargs, x\u001b[39m.\u001b[39;49msize,\n\u001b[0;32m   4598\u001b[0m         get_next_color_func\u001b[39m=\u001b[39;49m\u001b[39mself\u001b[39;49m\u001b[39m.\u001b[39;49m_get_patches_for_fill\u001b[39m.\u001b[39;49mget_next_color)\n\u001b[0;32m   4600\u001b[0m \u001b[39mif\u001b[39;00m plotnonfinite \u001b[39mand\u001b[39;00m colors \u001b[39mis\u001b[39;00m \u001b[39mNone\u001b[39;00m:\n\u001b[0;32m   4601\u001b[0m     c \u001b[39m=\u001b[39m np\u001b[39m.\u001b[39mma\u001b[39m.\u001b[39mmasked_invalid(c)\n",
      "File \u001b[1;32mc:\\Users\\OneRaise\\miniconda3\\Lib\\site-packages\\matplotlib\\axes\\_axes.py:4449\u001b[0m, in \u001b[0;36mAxes._parse_scatter_color_args\u001b[1;34m(c, edgecolors, kwargs, xsize, get_next_color_func)\u001b[0m\n\u001b[0;32m   4445\u001b[0m     \u001b[39melse\u001b[39;00m:\n\u001b[0;32m   4446\u001b[0m         \u001b[39mif\u001b[39;00m \u001b[39mlen\u001b[39m(colors) \u001b[39mnot\u001b[39;00m \u001b[39min\u001b[39;00m (\u001b[39m0\u001b[39m, \u001b[39m1\u001b[39m, xsize):\n\u001b[0;32m   4447\u001b[0m             \u001b[39m# NB: remember that a single color is also acceptable.\u001b[39;00m\n\u001b[0;32m   4448\u001b[0m             \u001b[39m# Besides *colors* will be an empty array if c == 'none'.\u001b[39;00m\n\u001b[1;32m-> 4449\u001b[0m             \u001b[39mraise\u001b[39;00m invalid_shape_exception(\u001b[39mlen\u001b[39m(colors), xsize)\n\u001b[0;32m   4450\u001b[0m \u001b[39melse\u001b[39;00m:\n\u001b[0;32m   4451\u001b[0m     colors \u001b[39m=\u001b[39m \u001b[39mNone\u001b[39;00m  \u001b[39m# use cmap, norm after collection is created\u001b[39;00m\n",
      "\u001b[1;31mValueError\u001b[0m: 'c' argument has 2 elements, which is inconsistent with 'x' and 'y' with size 4."
     ]
    },
    {
     "data": {
      "image/png": "[encoded data removed]",
      "text/plain": [
       "<Figure size 640x480 with 1 Axes>"
      ]
     },
     "metadata": {},
     "output_type": "display_data"
    }
   ],
   "source": [
    "np.random.seed(0)\n",
    "cent, cluster = Kmeans(dataset, 4, random_init)"
   ]
  },
  {
   "cell_type": "code",
   "execution_count": null,
   "metadata": {},
   "outputs": [],
   "source": []
  }
 ],
 "metadata": {
  "kernelspec": {
   "display_name": "base",
   "language": "python",
   "name": "python3"
  },
  "language_info": {
   "codemirror_mode": {
    "name": "ipython",
    "version": 3
   },
   "file_extension": ".py",
   "mimetype": "text/x-python",
   "name": "python",
   "nbconvert_exporter": "python",
   "pygments_lexer": "ipython3",
   "version": "3.11.4"
  }
 },
 "nbformat": 4,
 "nbformat_minor": 2
}
